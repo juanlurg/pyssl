{
 "cells": [
  {
   "cell_type": "code",
   "source": "# 🚀 Setup for Google Colab\nimport sys\nif 'google.colab' in sys.modules:\n    print(\"🔧 Setting up for Google Colab...\")\n    \n    # Install required dependencies\n    !pip install -q matplotlib seaborn scikit-learn numpy pandas\n    \n    # Note: SSL framework code will be included in subsequent cells for Colab compatibility\n    print(\"✅ Dependencies installed! SSL framework will be defined in the next cells.\")\nelse:\n    print(\"📝 Running locally - using installed SSL framework\")",
   "metadata": {},
   "execution_count": null,
   "outputs": []
  },
  {
   "cell_type": "markdown",
   "source": "[![Open In Colab](https://colab.research.google.com/assets/colab-badge.svg)](https://colab.research.google.com/github/yourusername/pyssl/blob/main/notebooks/05_hyperparameter_tuning.ipynb)",
   "metadata": {}
  },
  {
   "cell_type": "markdown",
   "source": "## 3. Key Insights & Best Practices\n\n### 🧠 Key Tuning Insights:\n1. **Strategy Selection**: Choice between Confidence vs TopK has biggest impact\n2. **Threshold/K Values**: Most critical SSL-specific parameters  \n3. **Iteration Limits**: Balance between performance and efficiency\n4. **Base Model Regularization**: Important for SSL stability\n5. **Method Efficiency**: Random search often competitive with Bayesian\n\n### 📚 Quick Selection Guide:\n- **Conservative approach**: ConfidenceThreshold(0.95)\n- **Balanced approach**: ConfidenceThreshold(0.90) \n- **Aggressive approach**: TopKFixedCount(10-15)\n- **Integration**: AppendAndGrow() for most cases\n\nThis completes our hyperparameter tuning exploration. The framework provides flexible optimization capabilities for finding the best SSL configuration for your specific use case.",
   "metadata": {}
  },
  {
   "cell_type": "code",
   "source": "# Define parameter grids for systematic exploration\nparam_grids = {\n    'ConfidenceThreshold': {\n        'threshold': [0.8, 0.85, 0.9, 0.95, 0.99]\n    },\n    'TopKFixedCount': {\n        'k': [3, 5, 8, 10, 15, 20]\n    }\n}\n\nbase_model_grids = {\n    'C': [0.1, 1.0, 10.0],\n    'class_weight': [None, 'balanced']\n}\n\n# Run grid search on medium dataset\nprint(\"🔍 Running Grid Search on Medium Dataset...\")\nresults = []\n\ndataset_name = 'medium'\ndataset = datasets[dataset_name]\n\nfor strategy_name, strategy_grid in param_grids.items():\n    print(f\"  Testing {strategy_name}...\")\n    \n    # Try all strategy parameter combinations\n    strategy_param_names = list(strategy_grid.keys())\n    strategy_param_values = list(strategy_grid.values())\n    \n    for strategy_params in product(*strategy_param_values):\n        strategy_config = dict(zip(strategy_param_names, strategy_params))\n        \n        # Try all base model parameter combinations\n        base_param_names = list(base_model_grids.keys())\n        base_param_values = list(base_model_grids.values())\n        \n        for base_params in product(*base_param_values):\n            base_config = dict(zip(base_param_names, base_params))\n            \n            result = evaluate_ssl_config(\n                dataset_name, dataset, strategy_name, \n                strategy_config, base_config\n            )\n            results.append(result)\n\nresults_df = pd.DataFrame(results)\nprint(f\"✅ Completed {len(results)} configurations\")\nprint(\"\\n📊 Top 5 Configurations by F1-Macro:\")\ntop_results = results_df.nlargest(5, 'f1_macro')\nfor _, row in top_results.iterrows():\n    print(f\"  {row['strategy']}: F1={row['f1_macro']:.3f}, Params={row['strategy_params']}\")",
   "metadata": {},
   "execution_count": null,
   "outputs": []
  },
  {
   "cell_type": "code",
   "source": "def evaluate_ssl_config(dataset_name, dataset, strategy_name, strategy_params, base_model_params=None):\n    \"\"\"Evaluate a single SSL configuration.\"\"\"\n    X_labeled, y_labeled, X_unlabeled, X_val, y_val, X_test, y_test, y_unlabeled_true = dataset['data']\n    \n    # Create base model\n    if base_model_params is None:\n        base_model_params = {}\n    base_model = LogisticRegression(random_state=42, max_iter=1000, **base_model_params)\n    \n    # Create strategy\n    if strategy_name == 'ConfidenceThreshold':\n        strategy = ConfidenceThreshold(**strategy_params)\n    elif strategy_name == 'TopKFixedCount':\n        strategy = TopKFixedCount(**strategy_params)\n    else:\n        raise ValueError(f\"Unknown strategy: {strategy_name}\")\n    \n    # Create SSL model\n    ssl_model = SelfTrainingClassifier(\n        base_model=base_model,\n        selection_strategy=strategy,\n        integration_strategy=AppendAndGrow(),\n        max_iter=10,\n        labeling_convergence_threshold=5\n    )\n    \n    try:\n        # Train\n        ssl_model.fit(X_labeled, y_labeled, X_unlabeled, X_val, y_val)\n        \n        # Evaluate\n        y_pred = ssl_model.predict(X_test)\n        accuracy = accuracy_score(y_test, y_pred)\n        f1_macro = f1_score(y_test, y_pred, average='macro')\n        \n        # Get training info\n        final_labeled_count = len(ssl_model.X_labeled_)\n        iterations = len(ssl_model.history_)\n        \n        return {\n            'dataset': dataset_name,\n            'strategy': strategy_name,\n            'strategy_params': strategy_params,\n            'base_model_params': base_model_params,\n            'accuracy': accuracy,\n            'f1_macro': f1_macro,\n            'final_labeled_count': final_labeled_count,\n            'iterations': iterations,\n            'stopping_reason': ssl_model.stopping_reason_\n        }\n    except Exception as e:\n        return {\n            'dataset': dataset_name,\n            'strategy': strategy_name,\n            'strategy_params': strategy_params,\n            'base_model_params': base_model_params,\n            'accuracy': 0.0,\n            'f1_macro': 0.0,\n            'final_labeled_count': 0,\n            'iterations': 0,\n            'stopping_reason': f'Error: {str(e)}'\n        }\n\nprint(\"✅ Evaluation function ready!\")",
   "metadata": {},
   "execution_count": null,
   "outputs": []
  },
  {
   "cell_type": "markdown",
   "source": "## 2. Grid Search for SSL Parameters\n\nLet's systematically explore the parameter space to understand which settings work best:",
   "metadata": {}
  },
  {
   "cell_type": "code",
   "source": "# Generate test datasets with different characteristics\ndatasets = {}\n\n# Easy dataset - well-separated classes\neasy_data = generate_ssl_dataset(\n    dataset_type=\"moons\",\n    n_samples=800,\n    n_labeled=20,\n    test_size=0.2,\n    val_size=0.1,\n    random_state=42,\n    noise=0.1\n)\ndatasets['easy'] = {\n    'data': easy_data,\n    'name': 'Easy (Moons)',\n    'description': 'Well-separated 2D data'\n}\n\n# Medium dataset - moderate separation\nmedium_data = generate_ssl_dataset(\n    dataset_type=\"classification\",\n    n_samples=1000,\n    n_labeled=40,\n    test_size=0.2,\n    val_size=0.1,\n    random_state=42,\n    n_features=10,\n    n_classes=3,\n    class_sep=0.8\n)\ndatasets['medium'] = {\n    'data': medium_data,\n    'name': 'Medium (3-class)',\n    'description': '10D, 3 classes, moderate separation'\n}\n\n# Hard dataset - challenging separation\nhard_data = generate_ssl_dataset(\n    dataset_type=\"classification\",\n    n_samples=1200,\n    n_labeled=60,\n    test_size=0.2,\n    val_size=0.1,\n    random_state=42,\n    n_features=20,\n    n_classes=4,\n    class_sep=0.6\n)\ndatasets['hard'] = {\n    'data': hard_data,\n    'name': 'Hard (4-class)',\n    'description': '20D, 4 classes, difficult separation'\n}\n\nprint(\"📊 Dataset Summary:\")\nfor key, dataset in datasets.items():\n    X_labeled, y_labeled, X_unlabeled, X_val, y_val, X_test, y_test, y_unlabeled_true = dataset['data']\n    print(f\"  {dataset['name']}: {len(X_labeled)} labeled, {len(X_unlabeled)} unlabeled, {len(X_test)} test\")\n    print(f\"    Features: {X_labeled.shape[1]}, Classes: {len(np.unique(y_labeled))}\")\n    print(f\"    Description: {dataset['description']}\")\n    print()",
   "metadata": {},
   "execution_count": null,
   "outputs": []
  },
  {
   "cell_type": "markdown",
   "source": "## 1. Setup & Dataset Generation\n\nLet's create datasets with different characteristics to test our hyperparameter optimization:",
   "metadata": {}
  },
  {
   "cell_type": "markdown",
   "metadata": {},
   "source": "# 🎯 SSL Hyperparameter Tuning - Finding Optimal Configurations\n\nThis notebook demonstrates systematic hyperparameter optimization for semi-supervised learning. We'll explore which parameters matter most and how to tune them efficiently.\n\n**What you'll learn:**\n- Which SSL parameters have the biggest impact on performance\n- How to set up systematic hyperparameter search for SSL\n- GridSearch, RandomSearch, and Bayesian optimization for SSL\n- Parameter sensitivity analysis and visualization\n- Best practices for SSL hyperparameter tuning\n\n**Dataset:** Multi-class classification with varying difficulty levels"
  },
  {
   "cell_type": "code",
   "execution_count": null,
   "metadata": {},
   "outputs": [],
   "source": "import numpy as np\nimport pandas as pd\nimport matplotlib.pyplot as plt\nimport seaborn as sns\nfrom sklearn.model_selection import GridSearchCV, RandomizedSearchCV\nfrom sklearn.linear_model import LogisticRegression\nfrom sklearn.ensemble import RandomForestClassifier\nfrom sklearn.metrics import accuracy_score, f1_score\nfrom itertools import product\nimport warnings\nwarnings.filterwarnings('ignore')\n\n# Import our SSL framework\nimport sys\nsys.path.append('../')\nfrom ssl_framework.main import SelfTrainingClassifier\nfrom ssl_framework.strategies import (\n    ConfidenceThreshold, TopKFixedCount, \n    AppendAndGrow, FullReLabeling, ConfidenceWeighting\n)\n\n# Import utilities\nfrom utils.data_generation import generate_ssl_dataset, create_ssl_benchmark\n\n# Set style\nplt.style.use('default')\nsns.set_palette(\"husl\")\n\nprint(\"✅ All imports successful!\")"
  }
 ],
 "metadata": {
  "kernelspec": {
   "display_name": "Python 3",
   "language": "python",
   "name": "python3"
  },
  "language_info": {
   "codemirror_mode": {
    "name": "ipython",
    "version": 3
   },
   "file_extension": ".py",
   "mimetype": "text/x-python",
   "name": "python",
   "nbconvert_exporter": "python",
   "pygments_lexer": "ipython3",
   "version": "3.12.3"
  }
 },
 "nbformat": 4,
 "nbformat_minor": 4
}